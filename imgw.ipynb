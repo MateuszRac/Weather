{
 "cells": [
  {
   "cell_type": "code",
   "execution_count": 36,
   "id": "original-hamilton",
   "metadata": {},
   "outputs": [],
   "source": [
    "import requests\n",
    "import json\n",
    "import pandas as pd\n",
    "from datetime import datetime\n",
    "import pytz\n",
    "\n",
    "# URL of the API\n",
    "url = \"https://danepubliczne.imgw.pl/api/data/synop/\"\n",
    "\n",
    "try:\n",
    "    # Send an HTTP GET request to the URL\n",
    "    response = requests.get(url)\n",
    "\n",
    "    # Check if the request was successful (status code 200)\n",
    "    if response.status_code == 200:\n",
    "        # Parse the JSON response\n",
    "        data = response.json()\n",
    "\n",
    "        # Get the current UTC datetime\n",
    "        utc_now = datetime.now(pytz.utc)\n",
    "\n",
    "        df = pd.DataFrame.from_dict(data)\n",
    "        df['temperatura'] = pd.to_numeric(df[\"temperatura\"])\n",
    "        df = df.sort_values(by='temperatura', ascending=False)\n",
    "        \n",
    "        html = df.to_html()\n",
    "        html = utc_now.strftime(\"%Y-%m-%d %H:%M:%S %Z\")+\"<br><br>\"+html\n",
    "        file = open(r'/var/www/html/index.html', \"w\")\n",
    "        file.write(html)\n",
    "        file.close()\n",
    "        \n",
    "        # Print the JSON data\n",
    "        #print(json.dumps(data, indent=4))\n",
    "    else:\n",
    "        print(f\"Failed to retrieve data. Status code: {response.status_code}\")\n",
    "except requests.exceptions.RequestException as e:\n",
    "    print(f\"An error occurred: {e}\")\n"
   ]
  },
  {
   "cell_type": "code",
   "execution_count": 37,
   "id": "joined-plain",
   "metadata": {},
   "outputs": [
    {
     "data": {
      "text/plain": [
       "'2023-09-18 19:09:40 UTC/n<br><br><table border=\"1\" class=\"dataframe\">\\n  <thead>\\n    <tr style=\"text-align: right;\">\\n      <th></th>\\n      <th>id_stacji</th>\\n      <th>stacja</th>\\n      <th>data_pomiaru</th>\\n      <th>godzina_pomiaru</th>\\n      <th>temperatura</th>\\n      <th>predkosc_wiatru</th>\\n      <th>kierunek_wiatru</th>\\n      <th>wilgotnosc_wzgledna</th>\\n      <th>suma_opadu</th>\\n      <th>cisnienie</th>\\n    </tr>\\n  </thead>\\n  <tbody>\\n    <tr>\\n      <th>37</th>\\n      <td>12330</td>\\n      <td>Poznań</td>\\n      <td>2023-09-18</td>\\n      <td>18</td>\\n      <td>24.6</td>\\n      <td>4</td>\\n      <td>170</td>\\n      <td>55.0</td>\\n      <td>0</td>\\n      <td>1008.1</td>\\n    </tr>\\n    <tr>\\n      <th>61</th>\\n      <td>12400</td>\\n      <td>Zielona Góra</td>\\n      <td>2023-09-18</td>\\n      <td>18</td>\\n      <td>23.7</td>\\n      <td>2</td>\\n      <td>280</td>\\n      <td>60.1</td>\\n      <td>0</td>\\n      <td>1007.8</td>\\n    </tr>\\n    <tr>\\n      <th>53</th>\\n      <td>12250</td>\\n      <td>Toruń</td>\\n      <td>2023-09-18</td>\\n      <td>18</td>\\n      <td>23.5</td>\\n      <td>2</td>\\n      <td>120</td>\\n      <td>50.3</td>\\n      <td>0.1</td>\\n      <td>1009.2</td>\\n    </tr>\\n    <tr>\\n      <th>50</th>\\n      <td>12200</td>\\n      <td>Świnoujście</td>\\n      <td>2023-09-18</td>\\n      <td>18</td>\\n      <td>23.2</td>\\n      <td>4</td>\\n      <td>200</td>\\n      <td>64.5</td>\\n      <td>0</td>\\n      <td>1005.5</td>\\n    </tr>\\n    <tr>\\n      <th>34</th>\\n      <td>12230</td>\\n      <td>Piła</td>\\n      <td>2023-09-18</td>\\n      <td>18</td>\\n      <td>23.2</td>\\n      <td>1</td>\\n      <td>180</td>\\n      <td>56.2</td>\\n      <td>0</td>\\n      <td>1007.6</td>\\n    </tr>\\n    <tr>\\n      <th>9</th>\\n      <td>12435</td>\\n      <td>Kalisz</td>\\n      <td>2023-09-18</td>\\n      <td>18</td>\\n      <td>23.2</td>\\n      <td>3</td>\\n      <td>150</td>\\n      <td>60.4</td>\\n      <td>0</td>\\n      <td>1009.4</td>\\n    </tr>\\n    <tr>\\n      <th>21</th>\\n      <td>12415</td>\\n      <td>Legnica</td>\\n      <td>2023-09-18</td>\\n      <td>18</td>\\n      <td>23.1</td>\\n      <td>2</td>\\n      <td>170</td>\\n      <td>63.2</td>\\n      <td>0</td>\\n      <td>1008.2</td>\\n    </tr>\\n    <tr>\\n      <th>32</th>\\n      <td>12530</td>\\n      <td>Opole</td>\\n      <td>2023-09-18</td>\\n      <td>18</td>\\n      <td>23.1</td>\\n      <td>3</td>\\n      <td>160</td>\\n      <td>60.4</td>\\n      <td>0.01</td>\\n      <td>1010.1</td>\\n    </tr>\\n    <tr>\\n      <th>23</th>\\n      <td>12418</td>\\n      <td>Leszno</td>\\n      <td>2023-09-18</td>\\n      <td>18</td>\\n      <td>23.1</td>\\n      <td>2</td>\\n      <td>160</td>\\n      <td>66.2</td>\\n      <td>0</td>\\n      <td>1008.2</td>\\n    </tr>\\n    <tr>\\n      <th>54</th>\\n      <td>12115</td>\\n      <td>Ustka</td>\\n      <td>2023-09-18</td>\\n      <td>18</td>\\n      <td>23.0</td>\\n      <td>3</td>\\n      <td>160</td>\\n      <td>61.2</td>\\n      <td>0</td>\\n      <td>1006.7</td>\\n    </tr>\\n    <tr>\\n      <th>15</th>\\n      <td>12345</td>\\n      <td>Koło</td>\\n      <td>2023-09-18</td>\\n      <td>18</td>\\n      <td>23.0</td>\\n      <td>3</td>\\n      <td>160</td>\\n      <td>56.2</td>\\n      <td>0</td>\\n      <td>1009.6</td>\\n    </tr>\\n    <tr>\\n      <th>47</th>\\n      <td>12205</td>\\n      <td>Szczecin</td>\\n      <td>2023-09-18</td>\\n      <td>18</td>\\n      <td>22.9</td>\\n      <td>4</td>\\n      <td>200</td>\\n      <td>63.2</td>\\n      <td>0</td>\\n      <td>1006.4</td>\\n    </tr>\\n    <tr>\\n      <th>17</th>\\n      <td>12105</td>\\n      <td>Koszalin</td>\\n      <td>2023-09-18</td>\\n      <td>18</td>\\n      <td>22.6</td>\\n      <td>2</td>\\n      <td>150</td>\\n      <td>66.5</td>\\n      <td>0</td>\\n      <td>1006.7</td>\\n    </tr>\\n    <tr>\\n      <th>48</th>\\n      <td>12215</td>\\n      <td>Szczecinek</td>\\n      <td>2023-09-18</td>\\n      <td>18</td>\\n      <td>22.5</td>\\n      <td>2</td>\\n      <td>150</td>\\n      <td>61.9</td>\\n      <td>0</td>\\n      <td>1007.6</td>\\n    </tr>\\n    <tr>\\n      <th>44</th>\\n      <td>12310</td>\\n      <td>Słubice</td>\\n      <td>2023-09-18</td>\\n      <td>18</td>\\n      <td>22.5</td>\\n      <td>2</td>\\n      <td>230</td>\\n      <td>62.3</td>\\n      <td>0</td>\\n      <td>1007.7</td>\\n    </tr>\\n    <tr>\\n      <th>58</th>\\n      <td>12424</td>\\n      <td>Wrocław</td>\\n      <td>2023-09-18</td>\\n      <td>18</td>\\n      <td>22.5</td>\\n      <td>3</td>\\n      <td>130</td>\\n      <td>68.2</td>\\n      <td>0</td>\\n      <td>1009</td>\\n    </tr>\\n    <tr>\\n      <th>36</th>\\n      <td>12360</td>\\n      <td>Płock</td>\\n      <td>2023-09-18</td>\\n      <td>18</td>\\n      <td>22.5</td>\\n      <td>2</td>\\n      <td>160</td>\\n      <td>54.2</td>\\n      <td>0</td>\\n      <td>1010.5</td>\\n    </tr>\\n    <tr>\\n      <th>6</th>\\n      <td>12300</td>\\n      <td>Gorzów</td>\\n      <td>2023-09-18</td>\\n      <td>18</td>\\n      <td>22.4</td>\\n      <td>2</td>\\n      <td>260</td>\\n      <td>72.3</td>\\n      <td>0</td>\\n      <td>1007.6</td>\\n    </tr>\\n    <tr>\\n      <th>16</th>\\n      <td>12100</td>\\n      <td>Kołobrzeg</td>\\n      <td>2023-09-18</td>\\n      <td>18</td>\\n      <td>22.0</td>\\n      <td>5</td>\\n      <td>150</td>\\n      <td>68.2</td>\\n      <td>0</td>\\n      <td>1006</td>\\n    </tr>\\n    <tr>\\n      <th>43</th>\\n      <td>12385</td>\\n      <td>Siedlce</td>\\n      <td>2023-09-18</td>\\n      <td>18</td>\\n      <td>21.8</td>\\n      <td>2</td>\\n      <td>150</td>\\n      <td>63.4</td>\\n      <td>0</td>\\n      <td>1013.2</td>\\n    </tr>\\n    <tr>\\n      <th>2</th>\\n      <td>12235</td>\\n      <td>Chojnice</td>\\n      <td>2023-09-18</td>\\n      <td>18</td>\\n      <td>21.7</td>\\n      <td>2</td>\\n      <td>160</td>\\n      <td>61.3</td>\\n      <td>0</td>\\n      <td>1008</td>\\n    </tr>\\n    <tr>\\n      <th>39</th>\\n      <td>12540</td>\\n      <td>Racibórz</td>\\n      <td>2023-09-18</td>\\n      <td>18</td>\\n      <td>21.7</td>\\n      <td>4</td>\\n      <td>180</td>\\n      <td>64.2</td>\\n      <td>0</td>\\n      <td>1011.1</td>\\n    </tr>\\n    <tr>\\n      <th>55</th>\\n      <td>12375</td>\\n      <td>Warszawa</td>\\n      <td>2023-09-18</td>\\n      <td>18</td>\\n      <td>21.7</td>\\n      <td>2</td>\\n      <td>130</td>\\n      <td>67.2</td>\\n      <td>0.3</td>\\n      <td>1012</td>\\n    </tr>\\n    <tr>\\n      <th>33</th>\\n      <td>12285</td>\\n      <td>Ostrołęka</td>\\n      <td>2023-09-18</td>\\n      <td>18</td>\\n      <td>21.5</td>\\n      <td>2</td>\\n      <td>99</td>\\n      <td>61.3</td>\\n      <td>0</td>\\n      <td>1012</td>\\n    </tr>\\n    <tr>\\n      <th>30</th>\\n      <td>12660</td>\\n      <td>Nowy Sącz</td>\\n      <td>2023-09-18</td>\\n      <td>18</td>\\n      <td>21.5</td>\\n      <td>3</td>\\n      <td>130</td>\\n      <td>61.3</td>\\n      <td>0</td>\\n      <td>1013.3</td>\\n    </tr>\\n    <tr>\\n      <th>40</th>\\n      <td>12210</td>\\n      <td>Resko</td>\\n      <td>2023-09-18</td>\\n      <td>18</td>\\n      <td>21.4</td>\\n      <td>3</td>\\n      <td>140</td>\\n      <td>76.5</td>\\n      <td>0</td>\\n      <td>1006.5</td>\\n    </tr>\\n    <tr>\\n      <th>51</th>\\n      <td>12575</td>\\n      <td>Tarnów</td>\\n      <td>2023-09-18</td>\\n      <td>18</td>\\n      <td>21.4</td>\\n      <td>3</td>\\n      <td>160</td>\\n      <td>66.3</td>\\n      <td>0</td>\\n      <td>1013.1</td>\\n    </tr>\\n    <tr>\\n      <th>18</th>\\n      <td>12488</td>\\n      <td>Kozienice</td>\\n      <td>2023-09-18</td>\\n      <td>18</td>\\n      <td>21.3</td>\\n      <td>2</td>\\n      <td>160</td>\\n      <td>68.5</td>\\n      <td>0</td>\\n      <td>1012.8</td>\\n    </tr>\\n    <tr>\\n      <th>5</th>\\n      <td>12155</td>\\n      <td>Gdańsk</td>\\n      <td>2023-09-18</td>\\n      <td>18</td>\\n      <td>21.2</td>\\n      <td>5</td>\\n      <td>140</td>\\n      <td>69.4</td>\\n      <td>0</td>\\n      <td>1008.7</td>\\n    </tr>\\n    <tr>\\n      <th>29</th>\\n      <td>12270</td>\\n      <td>Mława</td>\\n      <td>2023-09-18</td>\\n      <td>18</td>\\n      <td>21.2</td>\\n      <td>3</td>\\n      <td>130</td>\\n      <td>62.5</td>\\n      <td>0</td>\\n      <td>1011</td>\\n    </tr>\\n    <tr>\\n      <th>26</th>\\n      <td>12120</td>\\n      <td>Łeba</td>\\n      <td>2023-09-18</td>\\n      <td>18</td>\\n      <td>21.2</td>\\n      <td>3</td>\\n      <td>140</td>\\n      <td>68.5</td>\\n      <td>0</td>\\n      <td>1007.3</td>\\n    </tr>\\n    <tr>\\n      <th>12</th>\\n      <td>12185</td>\\n      <td>Kętrzyn</td>\\n      <td>2023-09-18</td>\\n      <td>18</td>\\n      <td>21.2</td>\\n      <td>4</td>\\n      <td>120</td>\\n      <td>67.6</td>\\n      <td>0</td>\\n      <td>1011.5</td>\\n    </tr>\\n    <tr>\\n      <th>27</th>\\n      <td>12465</td>\\n      <td>Łódź</td>\\n      <td>2023-09-18</td>\\n      <td>18</td>\\n      <td>21.1</td>\\n      <td>2</td>\\n      <td>110</td>\\n      <td>62.4</td>\\n      <td>0</td>\\n      <td>1010.8</td>\\n    </tr>\\n    <tr>\\n      <th>45</th>\\n      <td>12469</td>\\n      <td>Sulejów</td>\\n      <td>2023-09-18</td>\\n      <td>18</td>\\n      <td>21.0</td>\\n      <td>2</td>\\n      <td>120</td>\\n      <td>65.4</td>\\n      <td>0</td>\\n      <td>1011.3</td>\\n    </tr>\\n    <tr>\\n      <th>4</th>\\n      <td>12160</td>\\n      <td>Elbląg</td>\\n      <td>2023-09-18</td>\\n      <td>18</td>\\n      <td>21.0</td>\\n      <td>3</td>\\n      <td>150</td>\\n      <td>64.5</td>\\n      <td>0</td>\\n      <td>1009.8</td>\\n    </tr>\\n    <tr>\\n      <th>19</th>\\n      <td>12566</td>\\n      <td>Kraków</td>\\n      <td>2023-09-18</td>\\n      <td>18</td>\\n      <td>21.0</td>\\n      <td>0</td>\\n      <td>0</td>\\n      <td>58.4</td>\\n      <td>0</td>\\n      <td>1012.2</td>\\n    </tr>\\n    <tr>\\n      <th>14</th>\\n      <td>12520</td>\\n      <td>Kłodzko</td>\\n      <td>2023-09-18</td>\\n      <td>18</td>\\n      <td>20.9</td>\\n      <td>4</td>\\n      <td>180</td>\\n      <td>69.3</td>\\n      <td>0</td>\\n      <td>1009.8</td>\\n    </tr>\\n    <tr>\\n      <th>41</th>\\n      <td>12580</td>\\n      <td>Rzeszów</td>\\n      <td>2023-09-18</td>\\n      <td>18</td>\\n      <td>20.8</td>\\n      <td>4</td>\\n      <td>150</td>\\n      <td>69.3</td>\\n      <td>0</td>\\n      <td>1014.3</td>\\n    </tr>\\n    <tr>\\n      <th>31</th>\\n      <td>12272</td>\\n      <td>Olsztyn</td>\\n      <td>2023-09-18</td>\\n      <td>18</td>\\n      <td>20.7</td>\\n      <td>2</td>\\n      <td>130</td>\\n      <td>63.2</td>\\n      <td>0</td>\\n      <td>1010.9</td>\\n    </tr>\\n    <tr>\\n      <th>3</th>\\n      <td>12550</td>\\n      <td>Częstochowa</td>\\n      <td>2023-09-18</td>\\n      <td>18</td>\\n      <td>20.7</td>\\n      <td>2</td>\\n      <td>150</td>\\n      <td>63.2</td>\\n      <td>0</td>\\n      <td>1011.3</td>\\n    </tr>\\n    <tr>\\n      <th>28</th>\\n      <td>12280</td>\\n      <td>Mikołajki</td>\\n      <td>2023-09-18</td>\\n      <td>18</td>\\n      <td>20.7</td>\\n      <td>3</td>\\n      <td>130</td>\\n      <td>72.5</td>\\n      <td>0</td>\\n      <td>1012</td>\\n    </tr>\\n    <tr>\\n      <th>35</th>\\n      <td>12001</td>\\n      <td>Platforma</td>\\n      <td>2023-09-18</td>\\n      <td>18</td>\\n      <td>20.6</td>\\n      <td>12</td>\\n      <td>130</td>\\n      <td>80.5</td>\\n      <td>0</td>\\n      <td>1007.8</td>\\n    </tr>\\n    <tr>\\n      <th>24</th>\\n      <td>12125</td>\\n      <td>Lębork</td>\\n      <td>2023-09-18</td>\\n      <td>18</td>\\n      <td>20.6</td>\\n      <td>2</td>\\n      <td>80</td>\\n      <td>70.7</td>\\n      <td>0.1</td>\\n      <td>1007.6</td>\\n    </tr>\\n    <tr>\\n      <th>52</th>\\n      <td>12399</td>\\n      <td>Terespol</td>\\n      <td>2023-09-18</td>\\n      <td>18</td>\\n      <td>20.6</td>\\n      <td>2</td>\\n      <td>150</td>\\n      <td>74.4</td>\\n      <td>0</td>\\n      <td>1014.7</td>\\n    </tr>\\n    <tr>\\n      <th>56</th>\\n      <td>12455</td>\\n      <td>Wieluń</td>\\n      <td>2023-09-18</td>\\n      <td>18</td>\\n      <td>20.5</td>\\n      <td>1</td>\\n      <td>140</td>\\n      <td>67.5</td>\\n      <td>0</td>\\n      <td>1010.5</td>\\n    </tr>\\n    <tr>\\n      <th>13</th>\\n      <td>12570</td>\\n      <td>Kielce</td>\\n      <td>2023-09-18</td>\\n      <td>18</td>\\n      <td>20.4</td>\\n      <td>3</td>\\n      <td>140</td>\\n      <td>72.5</td>\\n      <td>0</td>\\n      <td>1012.7</td>\\n    </tr>\\n    <tr>\\n      <th>11</th>\\n      <td>12560</td>\\n      <td>Katowice</td>\\n      <td>2023-09-18</td>\\n      <td>18</td>\\n      <td>20.3</td>\\n      <td>1</td>\\n      <td>190</td>\\n      <td>64.4</td>\\n      <td>0</td>\\n      <td>1011.6</td>\\n    </tr>\\n    <tr>\\n      <th>57</th>\\n      <td>12497</td>\\n      <td>Włodawa</td>\\n      <td>2023-09-18</td>\\n      <td>18</td>\\n      <td>20.1</td>\\n      <td>2</td>\\n      <td>140</td>\\n      <td>76.3</td>\\n      <td>0.01</td>\\n      <td>1014.9</td>\\n    </tr>\\n    <tr>\\n      <th>38</th>\\n      <td>12695</td>\\n      <td>Przemyśl</td>\\n      <td>2023-09-18</td>\\n      <td>18</td>\\n      <td>20.1</td>\\n      <td>1</td>\\n      <td>99</td>\\n      <td>72.0</td>\\n      <td>0</td>\\n      <td>1015.6</td>\\n    </tr>\\n    <tr>\\n      <th>1</th>\\n      <td>12600</td>\\n      <td>Bielsko Biała</td>\\n      <td>2023-09-18</td>\\n      <td>18</td>\\n      <td>20.1</td>\\n      <td>3</td>\\n      <td>110</td>\\n      <td>63.5</td>\\n      <td>0</td>\\n      <td>1011.8</td>\\n    </tr>\\n    <tr>\\n      <th>42</th>\\n      <td>12585</td>\\n      <td>Sandomierz</td>\\n      <td>2023-09-18</td>\\n      <td>18</td>\\n      <td>20.0</td>\\n      <td>3</td>\\n      <td>140</td>\\n      <td>75.3</td>\\n      <td>0</td>\\n      <td>1013.7</td>\\n    </tr>\\n    <tr>\\n      <th>7</th>\\n      <td>12135</td>\\n      <td>Hel</td>\\n      <td>2023-09-18</td>\\n      <td>18</td>\\n      <td>19.9</td>\\n      <td>5</td>\\n      <td>120</td>\\n      <td>88.0</td>\\n      <td>0</td>\\n      <td>1008.7</td>\\n    </tr>\\n    <tr>\\n      <th>20</th>\\n      <td>12670</td>\\n      <td>Krosno</td>\\n      <td>2023-09-18</td>\\n      <td>18</td>\\n      <td>19.5</td>\\n      <td>4</td>\\n      <td>130</td>\\n      <td>73.3</td>\\n      <td>0</td>\\n      <td>1014.7</td>\\n    </tr>\\n    <tr>\\n      <th>60</th>\\n      <td>12595</td>\\n      <td>Zamość</td>\\n      <td>2023-09-18</td>\\n      <td>18</td>\\n      <td>19.4</td>\\n      <td>2</td>\\n      <td>180</td>\\n      <td>80.9</td>\\n      <td>0</td>\\n      <td>1015</td>\\n    </tr>\\n    <tr>\\n      <th>8</th>\\n      <td>12500</td>\\n      <td>Jelenia Góra</td>\\n      <td>2023-09-18</td>\\n      <td>18</td>\\n      <td>19.1</td>\\n      <td>1</td>\\n      <td>150</td>\\n      <td>82.4</td>\\n      <td>0</td>\\n      <td>1008.9</td>\\n    </tr>\\n    <tr>\\n      <th>25</th>\\n      <td>12495</td>\\n      <td>Lublin</td>\\n      <td>2023-09-18</td>\\n      <td>18</td>\\n      <td>19.1</td>\\n      <td>2</td>\\n      <td>160</td>\\n      <td>74.7</td>\\n      <td>0</td>\\n      <td>1014.2</td>\\n    </tr>\\n    <tr>\\n      <th>22</th>\\n      <td>12690</td>\\n      <td>Lesko</td>\\n      <td>2023-09-18</td>\\n      <td>18</td>\\n      <td>18.9</td>\\n      <td>3</td>\\n      <td>130</td>\\n      <td>75.7</td>\\n      <td>0</td>\\n      <td>1015.7</td>\\n    </tr>\\n    <tr>\\n      <th>46</th>\\n      <td>12195</td>\\n      <td>Suwałki</td>\\n      <td>2023-09-18</td>\\n      <td>18</td>\\n      <td>18.3</td>\\n      <td>1</td>\\n      <td>100</td>\\n      <td>74.6</td>\\n      <td>0</td>\\n      <td>1013.4</td>\\n    </tr>\\n    <tr>\\n      <th>0</th>\\n      <td>12295</td>\\n      <td>Białystok</td>\\n      <td>2023-09-18</td>\\n      <td>18</td>\\n      <td>17.4</td>\\n      <td>1</td>\\n      <td>140</td>\\n      <td>81.7</td>\\n      <td>0</td>\\n      <td>1013.9</td>\\n    </tr>\\n    <tr>\\n      <th>59</th>\\n      <td>12625</td>\\n      <td>Zakopane</td>\\n      <td>2023-09-18</td>\\n      <td>18</td>\\n      <td>16.7</td>\\n      <td>1</td>\\n      <td>230</td>\\n      <td>60.3</td>\\n      <td>0</td>\\n      <td>None</td>\\n    </tr>\\n    <tr>\\n      <th>49</th>\\n      <td>12510</td>\\n      <td>Śnieżka</td>\\n      <td>2023-09-18</td>\\n      <td>18</td>\\n      <td>12.4</td>\\n      <td>13</td>\\n      <td>200</td>\\n      <td>100.0</td>\\n      <td>0</td>\\n      <td>None</td>\\n    </tr>\\n    <tr>\\n      <th>10</th>\\n      <td>12650</td>\\n      <td>Kasprowy Wierch</td>\\n      <td>2023-09-18</td>\\n      <td>18</td>\\n      <td>8.8</td>\\n      <td>13</td>\\n      <td>180</td>\\n      <td>94.0</td>\\n      <td>0</td>\\n      <td>None</td>\\n    </tr>\\n  </tbody>\\n</table>'"
      ]
     },
     "execution_count": 37,
     "metadata": {},
     "output_type": "execute_result"
    }
   ],
   "source": [
    "html"
   ]
  },
  {
   "cell_type": "code",
   "execution_count": 16,
   "id": "comprehensive-reporter",
   "metadata": {},
   "outputs": [
    {
     "ename": "ImportError",
     "evalue": "cannot import name 'Image' from 'PIL' (C:\\Users\\mateu\\AppData\\Local\\Programs\\Python\\Python39\\Lib\\site-packages\\PIL\\__init__.py)",
     "output_type": "error",
     "traceback": [
      "\u001b[1;31m---------------------------------------------------------------------------\u001b[0m",
      "\u001b[1;31mImportError\u001b[0m                               Traceback (most recent call last)",
      "\u001b[1;32m<ipython-input-16-8a50974608ff>\u001b[0m in \u001b[0;36m<module>\u001b[1;34m\u001b[0m\n\u001b[0;32m      1\u001b[0m \u001b[1;32mimport\u001b[0m \u001b[0mpandas\u001b[0m \u001b[1;32mas\u001b[0m \u001b[0mpd\u001b[0m\u001b[1;33m\u001b[0m\u001b[1;33m\u001b[0m\u001b[0m\n\u001b[1;32m----> 2\u001b[1;33m \u001b[1;32mimport\u001b[0m \u001b[0mmatplotlib\u001b[0m\u001b[1;33m.\u001b[0m\u001b[0mpyplot\u001b[0m \u001b[1;32mas\u001b[0m \u001b[0mplt\u001b[0m\u001b[1;33m\u001b[0m\u001b[1;33m\u001b[0m\u001b[0m\n\u001b[0m\u001b[0;32m      3\u001b[0m \u001b[1;32mfrom\u001b[0m \u001b[0mio\u001b[0m \u001b[1;32mimport\u001b[0m \u001b[0mBytesIO\u001b[0m\u001b[1;33m\u001b[0m\u001b[1;33m\u001b[0m\u001b[0m\n\u001b[0;32m      4\u001b[0m \u001b[1;32mfrom\u001b[0m \u001b[0mreportlab\u001b[0m\u001b[1;33m.\u001b[0m\u001b[0mlib\u001b[0m\u001b[1;33m.\u001b[0m\u001b[0mpagesizes\u001b[0m \u001b[1;32mimport\u001b[0m \u001b[0mletter\u001b[0m\u001b[1;33m,\u001b[0m \u001b[0mlandscape\u001b[0m\u001b[1;33m\u001b[0m\u001b[1;33m\u001b[0m\u001b[0m\n\u001b[0;32m      5\u001b[0m \u001b[1;32mfrom\u001b[0m \u001b[0mreportlab\u001b[0m\u001b[1;33m.\u001b[0m\u001b[0mplatypus\u001b[0m \u001b[1;32mimport\u001b[0m \u001b[0mSimpleDocTemplate\u001b[0m\u001b[1;33m,\u001b[0m \u001b[0mTable\u001b[0m\u001b[1;33m,\u001b[0m \u001b[0mTableStyle\u001b[0m\u001b[1;33m\u001b[0m\u001b[1;33m\u001b[0m\u001b[0m\n",
      "\u001b[1;32m~\\AppData\\Local\\Programs\\Python\\Python39\\Lib\\site-packages\\matplotlib\\pyplot.py\u001b[0m in \u001b[0;36m<module>\u001b[1;34m\u001b[0m\n\u001b[0;32m     34\u001b[0m \u001b[1;32mfrom\u001b[0m \u001b[0mcycler\u001b[0m \u001b[1;32mimport\u001b[0m \u001b[0mcycler\u001b[0m\u001b[1;33m\u001b[0m\u001b[1;33m\u001b[0m\u001b[0m\n\u001b[0;32m     35\u001b[0m \u001b[1;32mimport\u001b[0m \u001b[0mmatplotlib\u001b[0m\u001b[1;33m\u001b[0m\u001b[1;33m\u001b[0m\u001b[0m\n\u001b[1;32m---> 36\u001b[1;33m \u001b[1;32mimport\u001b[0m \u001b[0mmatplotlib\u001b[0m\u001b[1;33m.\u001b[0m\u001b[0mcolorbar\u001b[0m\u001b[1;33m\u001b[0m\u001b[1;33m\u001b[0m\u001b[0m\n\u001b[0m\u001b[0;32m     37\u001b[0m \u001b[1;32mimport\u001b[0m \u001b[0mmatplotlib\u001b[0m\u001b[1;33m.\u001b[0m\u001b[0mimage\u001b[0m\u001b[1;33m\u001b[0m\u001b[1;33m\u001b[0m\u001b[0m\n\u001b[0;32m     38\u001b[0m \u001b[1;32mfrom\u001b[0m \u001b[0mmatplotlib\u001b[0m \u001b[1;32mimport\u001b[0m \u001b[0mrcsetup\u001b[0m\u001b[1;33m,\u001b[0m \u001b[0mstyle\u001b[0m\u001b[1;33m\u001b[0m\u001b[1;33m\u001b[0m\u001b[0m\n",
      "\u001b[1;32m~\\AppData\\Local\\Programs\\Python\\Python39\\Lib\\site-packages\\matplotlib\\colorbar.py\u001b[0m in \u001b[0;36m<module>\u001b[1;34m\u001b[0m\n\u001b[0;32m     42\u001b[0m \u001b[1;32mimport\u001b[0m \u001b[0mmatplotlib\u001b[0m\u001b[1;33m.\u001b[0m\u001b[0mcollections\u001b[0m \u001b[1;32mas\u001b[0m \u001b[0mcollections\u001b[0m\u001b[1;33m\u001b[0m\u001b[1;33m\u001b[0m\u001b[0m\n\u001b[0;32m     43\u001b[0m \u001b[1;32mimport\u001b[0m \u001b[0mmatplotlib\u001b[0m\u001b[1;33m.\u001b[0m\u001b[0mcolors\u001b[0m \u001b[1;32mas\u001b[0m \u001b[0mcolors\u001b[0m\u001b[1;33m\u001b[0m\u001b[1;33m\u001b[0m\u001b[0m\n\u001b[1;32m---> 44\u001b[1;33m \u001b[1;32mimport\u001b[0m \u001b[0mmatplotlib\u001b[0m\u001b[1;33m.\u001b[0m\u001b[0mcontour\u001b[0m \u001b[1;32mas\u001b[0m \u001b[0mcontour\u001b[0m\u001b[1;33m\u001b[0m\u001b[1;33m\u001b[0m\u001b[0m\n\u001b[0m\u001b[0;32m     45\u001b[0m \u001b[1;32mimport\u001b[0m \u001b[0mmatplotlib\u001b[0m\u001b[1;33m.\u001b[0m\u001b[0mcm\u001b[0m \u001b[1;32mas\u001b[0m \u001b[0mcm\u001b[0m\u001b[1;33m\u001b[0m\u001b[1;33m\u001b[0m\u001b[0m\n\u001b[0;32m     46\u001b[0m \u001b[1;32mimport\u001b[0m \u001b[0mmatplotlib\u001b[0m\u001b[1;33m.\u001b[0m\u001b[0mgridspec\u001b[0m \u001b[1;32mas\u001b[0m \u001b[0mgridspec\u001b[0m\u001b[1;33m\u001b[0m\u001b[1;33m\u001b[0m\u001b[0m\n",
      "\u001b[1;32m~\\AppData\\Local\\Programs\\Python\\Python39\\Lib\\site-packages\\matplotlib\\contour.py\u001b[0m in \u001b[0;36m<module>\u001b[1;34m\u001b[0m\n\u001b[0;32m     15\u001b[0m \u001b[1;32mimport\u001b[0m \u001b[0mmatplotlib\u001b[0m\u001b[1;33m.\u001b[0m\u001b[0mcollections\u001b[0m \u001b[1;32mas\u001b[0m \u001b[0mmcoll\u001b[0m\u001b[1;33m\u001b[0m\u001b[1;33m\u001b[0m\u001b[0m\n\u001b[0;32m     16\u001b[0m \u001b[1;32mimport\u001b[0m \u001b[0mmatplotlib\u001b[0m\u001b[1;33m.\u001b[0m\u001b[0mfont_manager\u001b[0m \u001b[1;32mas\u001b[0m \u001b[0mfont_manager\u001b[0m\u001b[1;33m\u001b[0m\u001b[1;33m\u001b[0m\u001b[0m\n\u001b[1;32m---> 17\u001b[1;33m \u001b[1;32mimport\u001b[0m \u001b[0mmatplotlib\u001b[0m\u001b[1;33m.\u001b[0m\u001b[0mtext\u001b[0m \u001b[1;32mas\u001b[0m \u001b[0mtext\u001b[0m\u001b[1;33m\u001b[0m\u001b[1;33m\u001b[0m\u001b[0m\n\u001b[0m\u001b[0;32m     18\u001b[0m \u001b[1;32mimport\u001b[0m \u001b[0mmatplotlib\u001b[0m\u001b[1;33m.\u001b[0m\u001b[0mcbook\u001b[0m \u001b[1;32mas\u001b[0m \u001b[0mcbook\u001b[0m\u001b[1;33m\u001b[0m\u001b[1;33m\u001b[0m\u001b[0m\n\u001b[0;32m     19\u001b[0m \u001b[1;32mimport\u001b[0m \u001b[0mmatplotlib\u001b[0m\u001b[1;33m.\u001b[0m\u001b[0mmathtext\u001b[0m \u001b[1;32mas\u001b[0m \u001b[0mmathtext\u001b[0m\u001b[1;33m\u001b[0m\u001b[1;33m\u001b[0m\u001b[0m\n",
      "\u001b[1;32m~\\AppData\\Local\\Programs\\Python\\Python39\\Lib\\site-packages\\matplotlib\\text.py\u001b[0m in \u001b[0;36m<module>\u001b[1;34m\u001b[0m\n\u001b[0;32m     14\u001b[0m \u001b[1;32mfrom\u001b[0m \u001b[1;33m.\u001b[0m\u001b[0mfont_manager\u001b[0m \u001b[1;32mimport\u001b[0m \u001b[0mFontProperties\u001b[0m\u001b[1;33m\u001b[0m\u001b[1;33m\u001b[0m\u001b[0m\n\u001b[0;32m     15\u001b[0m \u001b[1;32mfrom\u001b[0m \u001b[1;33m.\u001b[0m\u001b[0mpatches\u001b[0m \u001b[1;32mimport\u001b[0m \u001b[0mFancyArrowPatch\u001b[0m\u001b[1;33m,\u001b[0m \u001b[0mFancyBboxPatch\u001b[0m\u001b[1;33m,\u001b[0m \u001b[0mRectangle\u001b[0m\u001b[1;33m\u001b[0m\u001b[1;33m\u001b[0m\u001b[0m\n\u001b[1;32m---> 16\u001b[1;33m \u001b[1;32mfrom\u001b[0m \u001b[1;33m.\u001b[0m\u001b[0mtextpath\u001b[0m \u001b[1;32mimport\u001b[0m \u001b[0mTextPath\u001b[0m  \u001b[1;31m# Unused, but imported by others.\u001b[0m\u001b[1;33m\u001b[0m\u001b[1;33m\u001b[0m\u001b[0m\n\u001b[0m\u001b[0;32m     17\u001b[0m from .transforms import (\n\u001b[0;32m     18\u001b[0m     Affine2D, Bbox, BboxBase, BboxTransformTo, IdentityTransform, Transform)\n",
      "\u001b[1;32m~\\AppData\\Local\\Programs\\Python\\Python39\\Lib\\site-packages\\matplotlib\\textpath.py\u001b[0m in \u001b[0;36m<module>\u001b[1;34m\u001b[0m\n\u001b[0;32m      9\u001b[0m \u001b[1;32mfrom\u001b[0m \u001b[0mmatplotlib\u001b[0m\u001b[1;33m.\u001b[0m\u001b[0mfont_manager\u001b[0m \u001b[1;32mimport\u001b[0m \u001b[0mFontProperties\u001b[0m\u001b[1;33m,\u001b[0m \u001b[0mget_font\u001b[0m\u001b[1;33m\u001b[0m\u001b[1;33m\u001b[0m\u001b[0m\n\u001b[0;32m     10\u001b[0m \u001b[1;32mfrom\u001b[0m \u001b[0mmatplotlib\u001b[0m\u001b[1;33m.\u001b[0m\u001b[0mft2font\u001b[0m \u001b[1;32mimport\u001b[0m \u001b[0mLOAD_NO_HINTING\u001b[0m\u001b[1;33m,\u001b[0m \u001b[0mLOAD_TARGET_LIGHT\u001b[0m\u001b[1;33m\u001b[0m\u001b[1;33m\u001b[0m\u001b[0m\n\u001b[1;32m---> 11\u001b[1;33m \u001b[1;32mfrom\u001b[0m \u001b[0mmatplotlib\u001b[0m\u001b[1;33m.\u001b[0m\u001b[0mmathtext\u001b[0m \u001b[1;32mimport\u001b[0m \u001b[0mMathTextParser\u001b[0m\u001b[1;33m\u001b[0m\u001b[1;33m\u001b[0m\u001b[0m\n\u001b[0m\u001b[0;32m     12\u001b[0m \u001b[1;32mfrom\u001b[0m \u001b[0mmatplotlib\u001b[0m\u001b[1;33m.\u001b[0m\u001b[0mpath\u001b[0m \u001b[1;32mimport\u001b[0m \u001b[0mPath\u001b[0m\u001b[1;33m\u001b[0m\u001b[1;33m\u001b[0m\u001b[0m\n\u001b[0;32m     13\u001b[0m \u001b[1;32mfrom\u001b[0m \u001b[0mmatplotlib\u001b[0m\u001b[1;33m.\u001b[0m\u001b[0mtransforms\u001b[0m \u001b[1;32mimport\u001b[0m \u001b[0mAffine2D\u001b[0m\u001b[1;33m\u001b[0m\u001b[1;33m\u001b[0m\u001b[0m\n",
      "\u001b[1;32m~\\AppData\\Local\\Programs\\Python\\Python39\\Lib\\site-packages\\matplotlib\\mathtext.py\u001b[0m in \u001b[0;36m<module>\u001b[1;34m\u001b[0m\n\u001b[0;32m     25\u001b[0m \u001b[1;33m\u001b[0m\u001b[0m\n\u001b[0;32m     26\u001b[0m \u001b[1;32mimport\u001b[0m \u001b[0mnumpy\u001b[0m \u001b[1;32mas\u001b[0m \u001b[0mnp\u001b[0m\u001b[1;33m\u001b[0m\u001b[1;33m\u001b[0m\u001b[0m\n\u001b[1;32m---> 27\u001b[1;33m \u001b[1;32mfrom\u001b[0m \u001b[0mPIL\u001b[0m \u001b[1;32mimport\u001b[0m \u001b[0mImage\u001b[0m\u001b[1;33m\u001b[0m\u001b[1;33m\u001b[0m\u001b[0m\n\u001b[0m\u001b[0;32m     28\u001b[0m from pyparsing import (\n\u001b[0;32m     29\u001b[0m     \u001b[0mCombine\u001b[0m\u001b[1;33m,\u001b[0m \u001b[0mEmpty\u001b[0m\u001b[1;33m,\u001b[0m \u001b[0mFollowedBy\u001b[0m\u001b[1;33m,\u001b[0m \u001b[0mForward\u001b[0m\u001b[1;33m,\u001b[0m \u001b[0mGroup\u001b[0m\u001b[1;33m,\u001b[0m \u001b[0mLiteral\u001b[0m\u001b[1;33m,\u001b[0m \u001b[0moneOf\u001b[0m\u001b[1;33m,\u001b[0m \u001b[0mOneOrMore\u001b[0m\u001b[1;33m,\u001b[0m\u001b[1;33m\u001b[0m\u001b[1;33m\u001b[0m\u001b[0m\n",
      "\u001b[1;31mImportError\u001b[0m: cannot import name 'Image' from 'PIL' (C:\\Users\\mateu\\AppData\\Local\\Programs\\Python\\Python39\\Lib\\site-packages\\PIL\\__init__.py)"
     ]
    }
   ],
   "source": [
    "import pandas as pd\n",
    "import matplotlib.pyplot as plt\n",
    "from io import BytesIO\n",
    "from reportlab.lib.pagesizes import letter, landscape\n",
    "from reportlab.platypus import SimpleDocTemplate, Table, TableStyle\n",
    "from reportlab.lib import colors\n",
    "\n",
    "# Sample DataFrame (Replace this with your own DataFrame)\n",
    "data = {\n",
    "    'Name': ['John', 'Alice', 'Bob'],\n",
    "    'Age': [25, 30, 22],\n",
    "    'City': ['New York', 'Los Angeles', 'Chicago'],\n",
    "}\n",
    "\n",
    "df = pd.DataFrame(data)\n",
    "\n",
    "# Create a matplotlib table from the DataFrame\n",
    "fig, ax = plt.subplots(figsize=(8, 4))\n",
    "ax.axis('tight')\n",
    "ax.axis('off')\n",
    "mpl_table = ax.table(cellText=df.values, colLabels=df.columns, cellLoc='center', loc='center')\n",
    "\n",
    "# Style the table\n",
    "mpl_table.auto_set_font_size(False)\n",
    "mpl_table.set_fontsize(12)\n",
    "mpl_table.scale(1.2, 1.2)  # Adjust the table size\n",
    "mpl_table.auto_set_column_width([0, 1, 2])\n",
    "\n",
    "# Convert the matplotlib table to bytes\n",
    "pdf_buffer = BytesIO()\n",
    "plt.savefig(pdf_buffer, format='pdf', bbox_inches='tight')\n",
    "plt.close()\n",
    "\n",
    "# Create a PDF document and add the table\n",
    "pdf = SimpleDocTemplate(\"table.pdf\", pagesize=landscape(letter))\n",
    "pdf_table = Table([[\"\"]])  # Create an empty table\n",
    "pdf_table.setStyle(TableStyle([('BACKGROUND', (0, 0), (-1, 0), colors.grey),\n",
    "                               ('TEXTCOLOR', (0, 0), (-1, 0), colors.whitesmoke),\n",
    "                               ('ALIGN', (0, 0), (-1, -1), 'CENTER'),\n",
    "                               ('FONTNAME', (0, 0), (-1, 0), 'Helvetica-Bold'),\n",
    "                               ('BOTTOMPADDING', (0, 0), (-1, 0), 12),\n",
    "                               ('BACKGROUND', (0, 1), (-1, -1), colors.beige),\n",
    "                               ('GRID', (0, 0), (-1, -1), 1, colors.black)]))\n",
    "pdf_table.wrapOn(pdf, pdf.width, pdf.height)\n",
    "pdf_table.add_table(pdf_table)\n",
    "pdf.build()\n"
   ]
  },
  {
   "cell_type": "code",
   "execution_count": 19,
   "id": "ceramic-nation",
   "metadata": {},
   "outputs": [
    {
     "ename": "ValueError",
     "evalue": "not enough values to unpack (expected 2, got 1)",
     "output_type": "error",
     "traceback": [
      "\u001b[1;31m---------------------------------------------------------------------------\u001b[0m",
      "\u001b[1;31mValueError\u001b[0m                                Traceback (most recent call last)",
      "\u001b[1;32m<ipython-input-19-018dc03afb94>\u001b[0m in \u001b[0;36m<module>\u001b[1;34m\u001b[0m\n\u001b[0;32m     21\u001b[0m \u001b[1;33m\u001b[0m\u001b[0m\n\u001b[0;32m     22\u001b[0m \u001b[1;31m# Convert the styled HTML to a string\u001b[0m\u001b[1;33m\u001b[0m\u001b[1;33m\u001b[0m\u001b[0m\n\u001b[1;32m---> 23\u001b[1;33m \u001b[0mstyled_html_str\u001b[0m \u001b[1;33m=\u001b[0m \u001b[0mstyled_html\u001b[0m\u001b[1;33m.\u001b[0m\u001b[0mrender\u001b[0m\u001b[1;33m(\u001b[0m\u001b[1;33m)\u001b[0m\u001b[1;33m\u001b[0m\u001b[1;33m\u001b[0m\u001b[0m\n\u001b[0m\u001b[0;32m     24\u001b[0m \u001b[1;33m\u001b[0m\u001b[0m\n\u001b[0;32m     25\u001b[0m \u001b[1;31m# Save the styled HTML to a file\u001b[0m\u001b[1;33m\u001b[0m\u001b[1;33m\u001b[0m\u001b[0m\n",
      "\u001b[1;32m~\\AppData\\Local\\Programs\\Python\\Python39\\Lib\\site-packages\\pandas\\io\\formats\\style.py\u001b[0m in \u001b[0;36mrender\u001b[1;34m(self, **kwargs)\u001b[0m\n\u001b[0;32m    626\u001b[0m         \u001b[0md\u001b[0m\u001b[1;33m[\u001b[0m\u001b[1;34m\"cellstyle\"\u001b[0m\u001b[1;33m]\u001b[0m \u001b[1;33m=\u001b[0m \u001b[0mtrimmed\u001b[0m\u001b[1;33m\u001b[0m\u001b[1;33m\u001b[0m\u001b[0m\n\u001b[0;32m    627\u001b[0m         \u001b[0md\u001b[0m\u001b[1;33m.\u001b[0m\u001b[0mupdate\u001b[0m\u001b[1;33m(\u001b[0m\u001b[0mkwargs\u001b[0m\u001b[1;33m)\u001b[0m\u001b[1;33m\u001b[0m\u001b[1;33m\u001b[0m\u001b[0m\n\u001b[1;32m--> 628\u001b[1;33m         \u001b[1;32mreturn\u001b[0m \u001b[0mself\u001b[0m\u001b[1;33m.\u001b[0m\u001b[0mtemplate\u001b[0m\u001b[1;33m.\u001b[0m\u001b[0mrender\u001b[0m\u001b[1;33m(\u001b[0m\u001b[1;33m**\u001b[0m\u001b[0md\u001b[0m\u001b[1;33m)\u001b[0m\u001b[1;33m\u001b[0m\u001b[1;33m\u001b[0m\u001b[0m\n\u001b[0m\u001b[0;32m    629\u001b[0m \u001b[1;33m\u001b[0m\u001b[0m\n\u001b[0;32m    630\u001b[0m     \u001b[1;32mdef\u001b[0m \u001b[0m_update_ctx\u001b[0m\u001b[1;33m(\u001b[0m\u001b[0mself\u001b[0m\u001b[1;33m,\u001b[0m \u001b[0mattrs\u001b[0m\u001b[1;33m:\u001b[0m \u001b[0mDataFrame\u001b[0m\u001b[1;33m)\u001b[0m \u001b[1;33m->\u001b[0m \u001b[1;32mNone\u001b[0m\u001b[1;33m:\u001b[0m\u001b[1;33m\u001b[0m\u001b[1;33m\u001b[0m\u001b[0m\n",
      "\u001b[1;32m~\\AppData\\Local\\Programs\\Python\\Python39\\Lib\\site-packages\\jinja2\\environment.py\u001b[0m in \u001b[0;36mrender\u001b[1;34m(self, *args, **kwargs)\u001b[0m\n\u001b[0;32m   1088\u001b[0m             \u001b[1;32mreturn\u001b[0m \u001b[0mconcat\u001b[0m\u001b[1;33m(\u001b[0m\u001b[0mself\u001b[0m\u001b[1;33m.\u001b[0m\u001b[0mroot_render_func\u001b[0m\u001b[1;33m(\u001b[0m\u001b[0mself\u001b[0m\u001b[1;33m.\u001b[0m\u001b[0mnew_context\u001b[0m\u001b[1;33m(\u001b[0m\u001b[0mvars\u001b[0m\u001b[1;33m)\u001b[0m\u001b[1;33m)\u001b[0m\u001b[1;33m)\u001b[0m\u001b[1;33m\u001b[0m\u001b[1;33m\u001b[0m\u001b[0m\n\u001b[0;32m   1089\u001b[0m         \u001b[1;32mexcept\u001b[0m \u001b[0mException\u001b[0m\u001b[1;33m:\u001b[0m\u001b[1;33m\u001b[0m\u001b[1;33m\u001b[0m\u001b[0m\n\u001b[1;32m-> 1090\u001b[1;33m             \u001b[0mself\u001b[0m\u001b[1;33m.\u001b[0m\u001b[0menvironment\u001b[0m\u001b[1;33m.\u001b[0m\u001b[0mhandle_exception\u001b[0m\u001b[1;33m(\u001b[0m\u001b[1;33m)\u001b[0m\u001b[1;33m\u001b[0m\u001b[1;33m\u001b[0m\u001b[0m\n\u001b[0m\u001b[0;32m   1091\u001b[0m \u001b[1;33m\u001b[0m\u001b[0m\n\u001b[0;32m   1092\u001b[0m     \u001b[1;32mdef\u001b[0m \u001b[0mrender_async\u001b[0m\u001b[1;33m(\u001b[0m\u001b[0mself\u001b[0m\u001b[1;33m,\u001b[0m \u001b[1;33m*\u001b[0m\u001b[0margs\u001b[0m\u001b[1;33m,\u001b[0m \u001b[1;33m**\u001b[0m\u001b[0mkwargs\u001b[0m\u001b[1;33m)\u001b[0m\u001b[1;33m:\u001b[0m\u001b[1;33m\u001b[0m\u001b[1;33m\u001b[0m\u001b[0m\n",
      "\u001b[1;32m~\\AppData\\Local\\Programs\\Python\\Python39\\Lib\\site-packages\\jinja2\\environment.py\u001b[0m in \u001b[0;36mhandle_exception\u001b[1;34m(self, source)\u001b[0m\n\u001b[0;32m    830\u001b[0m         \u001b[1;32mfrom\u001b[0m \u001b[1;33m.\u001b[0m\u001b[0mdebug\u001b[0m \u001b[1;32mimport\u001b[0m \u001b[0mrewrite_traceback_stack\u001b[0m\u001b[1;33m\u001b[0m\u001b[1;33m\u001b[0m\u001b[0m\n\u001b[0;32m    831\u001b[0m \u001b[1;33m\u001b[0m\u001b[0m\n\u001b[1;32m--> 832\u001b[1;33m         \u001b[0mreraise\u001b[0m\u001b[1;33m(\u001b[0m\u001b[1;33m*\u001b[0m\u001b[0mrewrite_traceback_stack\u001b[0m\u001b[1;33m(\u001b[0m\u001b[0msource\u001b[0m\u001b[1;33m=\u001b[0m\u001b[0msource\u001b[0m\u001b[1;33m)\u001b[0m\u001b[1;33m)\u001b[0m\u001b[1;33m\u001b[0m\u001b[1;33m\u001b[0m\u001b[0m\n\u001b[0m\u001b[0;32m    833\u001b[0m \u001b[1;33m\u001b[0m\u001b[0m\n\u001b[0;32m    834\u001b[0m     \u001b[1;32mdef\u001b[0m \u001b[0mjoin_path\u001b[0m\u001b[1;33m(\u001b[0m\u001b[0mself\u001b[0m\u001b[1;33m,\u001b[0m \u001b[0mtemplate\u001b[0m\u001b[1;33m,\u001b[0m \u001b[0mparent\u001b[0m\u001b[1;33m)\u001b[0m\u001b[1;33m:\u001b[0m\u001b[1;33m\u001b[0m\u001b[1;33m\u001b[0m\u001b[0m\n",
      "\u001b[1;32m~\\AppData\\Local\\Programs\\Python\\Python39\\Lib\\site-packages\\jinja2\\_compat.py\u001b[0m in \u001b[0;36mreraise\u001b[1;34m(tp, value, tb)\u001b[0m\n\u001b[0;32m     26\u001b[0m     \u001b[1;32mdef\u001b[0m \u001b[0mreraise\u001b[0m\u001b[1;33m(\u001b[0m\u001b[0mtp\u001b[0m\u001b[1;33m,\u001b[0m \u001b[0mvalue\u001b[0m\u001b[1;33m,\u001b[0m \u001b[0mtb\u001b[0m\u001b[1;33m=\u001b[0m\u001b[1;32mNone\u001b[0m\u001b[1;33m)\u001b[0m\u001b[1;33m:\u001b[0m\u001b[1;33m\u001b[0m\u001b[1;33m\u001b[0m\u001b[0m\n\u001b[0;32m     27\u001b[0m         \u001b[1;32mif\u001b[0m \u001b[0mvalue\u001b[0m\u001b[1;33m.\u001b[0m\u001b[0m__traceback__\u001b[0m \u001b[1;32mis\u001b[0m \u001b[1;32mnot\u001b[0m \u001b[0mtb\u001b[0m\u001b[1;33m:\u001b[0m\u001b[1;33m\u001b[0m\u001b[1;33m\u001b[0m\u001b[0m\n\u001b[1;32m---> 28\u001b[1;33m             \u001b[1;32mraise\u001b[0m \u001b[0mvalue\u001b[0m\u001b[1;33m.\u001b[0m\u001b[0mwith_traceback\u001b[0m\u001b[1;33m(\u001b[0m\u001b[0mtb\u001b[0m\u001b[1;33m)\u001b[0m\u001b[1;33m\u001b[0m\u001b[1;33m\u001b[0m\u001b[0m\n\u001b[0m\u001b[0;32m     29\u001b[0m         \u001b[1;32mraise\u001b[0m \u001b[0mvalue\u001b[0m\u001b[1;33m\u001b[0m\u001b[1;33m\u001b[0m\u001b[0m\n\u001b[0;32m     30\u001b[0m \u001b[1;33m\u001b[0m\u001b[0m\n",
      "\u001b[1;32m~\\AppData\\Local\\Programs\\Python\\Python39\\Lib\\site-packages\\pandas\\io\\formats\\templates\\html.tpl\u001b[0m in \u001b[0;36mtop-level template code\u001b[1;34m()\u001b[0m\n\u001b[0;32m      1\u001b[0m {# Update the template_structure.html document too #}\n\u001b[0;32m      2\u001b[0m \u001b[1;33m{\u001b[0m\u001b[1;33m%\u001b[0m\u001b[1;33m-\u001b[0m \u001b[0mblock\u001b[0m \u001b[0mbefore_style\u001b[0m \u001b[1;33m-\u001b[0m\u001b[1;33m%\u001b[0m\u001b[1;33m}\u001b[0m\u001b[1;33m{\u001b[0m\u001b[1;33m%\u001b[0m\u001b[1;33m-\u001b[0m \u001b[0mendblock\u001b[0m \u001b[0mbefore_style\u001b[0m \u001b[1;33m-\u001b[0m\u001b[1;33m%\u001b[0m\u001b[1;33m}\u001b[0m\u001b[1;33m\u001b[0m\u001b[1;33m\u001b[0m\u001b[0m\n\u001b[1;32m----> 3\u001b[1;33m \u001b[1;33m{\u001b[0m\u001b[1;33m%\u001b[0m \u001b[0mblock\u001b[0m \u001b[0mstyle\u001b[0m \u001b[1;33m%\u001b[0m\u001b[1;33m}\u001b[0m\u001b[1;33m\u001b[0m\u001b[1;33m\u001b[0m\u001b[0m\n\u001b[0m\u001b[0;32m      4\u001b[0m \u001b[1;33m<\u001b[0m\u001b[0mstyle\u001b[0m  \u001b[0mtype\u001b[0m\u001b[1;33m=\u001b[0m\u001b[1;34m\"text/css\"\u001b[0m \u001b[1;33m>\u001b[0m\u001b[1;33m\u001b[0m\u001b[1;33m\u001b[0m\u001b[0m\n\u001b[0;32m      5\u001b[0m \u001b[1;33m{\u001b[0m\u001b[1;33m%\u001b[0m \u001b[0mblock\u001b[0m \u001b[0mtable_styles\u001b[0m \u001b[1;33m%\u001b[0m\u001b[1;33m}\u001b[0m\u001b[1;33m\u001b[0m\u001b[1;33m\u001b[0m\u001b[0m\n",
      "\u001b[1;32m~\\AppData\\Local\\Programs\\Python\\Python39\\Lib\\site-packages\\pandas\\io\\formats\\templates\\html.tpl\u001b[0m in \u001b[0;36mblock \"style\"\u001b[1;34m()\u001b[0m\n\u001b[0;32m      3\u001b[0m \u001b[1;33m{\u001b[0m\u001b[1;33m%\u001b[0m \u001b[0mblock\u001b[0m \u001b[0mstyle\u001b[0m \u001b[1;33m%\u001b[0m\u001b[1;33m}\u001b[0m\u001b[1;33m\u001b[0m\u001b[1;33m\u001b[0m\u001b[0m\n\u001b[0;32m      4\u001b[0m \u001b[1;33m<\u001b[0m\u001b[0mstyle\u001b[0m  \u001b[0mtype\u001b[0m\u001b[1;33m=\u001b[0m\u001b[1;34m\"text/css\"\u001b[0m \u001b[1;33m>\u001b[0m\u001b[1;33m\u001b[0m\u001b[1;33m\u001b[0m\u001b[0m\n\u001b[1;32m----> 5\u001b[1;33m \u001b[1;33m{\u001b[0m\u001b[1;33m%\u001b[0m \u001b[0mblock\u001b[0m \u001b[0mtable_styles\u001b[0m \u001b[1;33m%\u001b[0m\u001b[1;33m}\u001b[0m\u001b[1;33m\u001b[0m\u001b[1;33m\u001b[0m\u001b[0m\n\u001b[0m\u001b[0;32m      6\u001b[0m \u001b[1;33m{\u001b[0m\u001b[1;33m%\u001b[0m \u001b[1;32mfor\u001b[0m \u001b[0ms\u001b[0m \u001b[1;32min\u001b[0m \u001b[0mtable_styles\u001b[0m \u001b[1;33m%\u001b[0m\u001b[1;33m}\u001b[0m\u001b[1;33m\u001b[0m\u001b[1;33m\u001b[0m\u001b[0m\n\u001b[0;32m      7\u001b[0m     \u001b[1;31m#T_{{uuid}} {{s.selector}} {\u001b[0m\u001b[1;33m\u001b[0m\u001b[1;33m\u001b[0m\u001b[0m\n",
      "\u001b[1;32m~\\AppData\\Local\\Programs\\Python\\Python39\\Lib\\site-packages\\pandas\\io\\formats\\templates\\html.tpl\u001b[0m in \u001b[0;36mblock \"table_styles\"\u001b[1;34m()\u001b[0m\n\u001b[0;32m      6\u001b[0m \u001b[1;33m{\u001b[0m\u001b[1;33m%\u001b[0m \u001b[1;32mfor\u001b[0m \u001b[0ms\u001b[0m \u001b[1;32min\u001b[0m \u001b[0mtable_styles\u001b[0m \u001b[1;33m%\u001b[0m\u001b[1;33m}\u001b[0m\u001b[1;33m\u001b[0m\u001b[1;33m\u001b[0m\u001b[0m\n\u001b[0;32m      7\u001b[0m     \u001b[1;31m#T_{{uuid}} {{s.selector}} {\u001b[0m\u001b[1;33m\u001b[0m\u001b[1;33m\u001b[0m\u001b[0m\n\u001b[1;32m----> 8\u001b[1;33m     \u001b[1;33m{\u001b[0m\u001b[1;33m%\u001b[0m \u001b[1;32mfor\u001b[0m \u001b[0mp\u001b[0m\u001b[1;33m,\u001b[0m\u001b[0mval\u001b[0m \u001b[1;32min\u001b[0m \u001b[0ms\u001b[0m\u001b[1;33m.\u001b[0m\u001b[0mprops\u001b[0m \u001b[1;33m%\u001b[0m\u001b[1;33m}\u001b[0m\u001b[1;33m\u001b[0m\u001b[1;33m\u001b[0m\u001b[0m\n\u001b[0m\u001b[0;32m      9\u001b[0m       \u001b[1;33m{\u001b[0m\u001b[1;33m{\u001b[0m\u001b[0mp\u001b[0m\u001b[1;33m}\u001b[0m\u001b[1;33m}\u001b[0m\u001b[1;33m:\u001b[0m \u001b[1;33m{\u001b[0m\u001b[1;33m{\u001b[0m\u001b[0mval\u001b[0m\u001b[1;33m}\u001b[0m\u001b[1;33m}\u001b[0m\u001b[1;33m;\u001b[0m\u001b[1;33m\u001b[0m\u001b[1;33m\u001b[0m\u001b[0m\n\u001b[0;32m     10\u001b[0m     \u001b[1;33m{\u001b[0m\u001b[1;33m%\u001b[0m \u001b[0mendfor\u001b[0m \u001b[1;33m-\u001b[0m\u001b[1;33m%\u001b[0m\u001b[1;33m}\u001b[0m\u001b[1;33m\u001b[0m\u001b[1;33m\u001b[0m\u001b[0m\n",
      "\u001b[1;31mValueError\u001b[0m: not enough values to unpack (expected 2, got 1)"
     ]
    }
   ],
   "source": [
    "import pandas as pd\n",
    "\n",
    "# Sample DataFrame (Replace this with your own DataFrame)\n",
    "data = {\n",
    "    'Name': ['John', 'Alice', 'Bob'],\n",
    "    'Age': [25, 30, 22],\n",
    "    'City': ['New York', 'Los Angeles', 'Chicago'],\n",
    "}\n",
    "\n",
    "df = pd.DataFrame(data)\n",
    "\n",
    "# Style the DataFrame as HTML\n",
    "styled_html = df.style.set_table_styles([\n",
    "    {'selector': 'tr:hover',\n",
    "     'props': 'background-color: yellow;'},\n",
    "    {'selector': 'th',\n",
    "     'props': 'background-color: #4CAF50; color: white;'},\n",
    "    {'selector': 'td',\n",
    "     'props': 'border: 1px solid #dddddd; text-align: left; padding: 8px;'},\n",
    "])\n",
    "\n",
    "# Convert the styled HTML to a string\n",
    "styled_html_str = styled_html.render()\n",
    "\n",
    "# Save the styled HTML to a file\n",
    "with open(\"styled_table.html\", \"w\") as html_file:\n",
    "    html_file.write(styled_html_str)\n"
   ]
  },
  {
   "cell_type": "code",
   "execution_count": 22,
   "id": "loving-semiconductor",
   "metadata": {},
   "outputs": [],
   "source": [
    "import pandas as pd\n",
    "import plotly.express as px\n",
    "\n",
    "# Sample DataFrame\n",
    "data = {\n",
    "    'Year': [2010, 2011, 2012, 2013, 2014],\n",
    "    'Value': [15, 18, 24, 21, 28]\n",
    "}\n",
    "\n",
    "df = pd.DataFrame(data)\n",
    "\n",
    "# Create an interactive line chart using Plotly Express\n",
    "fig = px.line(df, x='Year', y='Value', title='Interactive Line Chart')\n",
    "\n",
    "# Export the plot as an HTML file\n",
    "fig.write_html('line_plot.html', auto_open=True)\n"
   ]
  },
  {
   "cell_type": "code",
   "execution_count": null,
   "id": "instrumental-kitty",
   "metadata": {},
   "outputs": [],
   "source": []
  }
 ],
 "metadata": {
  "kernelspec": {
   "display_name": "Python 3 (ipykernel)",
   "language": "python",
   "name": "python3"
  },
  "language_info": {
   "codemirror_mode": {
    "name": "ipython",
    "version": 3
   },
   "file_extension": ".py",
   "mimetype": "text/x-python",
   "name": "python",
   "nbconvert_exporter": "python",
   "pygments_lexer": "ipython3",
   "version": "3.9.7"
  }
 },
 "nbformat": 4,
 "nbformat_minor": 5
}
